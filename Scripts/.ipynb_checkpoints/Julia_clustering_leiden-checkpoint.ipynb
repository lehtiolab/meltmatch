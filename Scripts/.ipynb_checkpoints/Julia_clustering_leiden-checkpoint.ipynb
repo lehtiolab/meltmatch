{
 "cells": [
  {
   "cell_type": "code",
   "execution_count": 26,
   "metadata": {},
   "outputs": [
    {
     "name": "stderr",
     "output_type": "stream",
     "text": [
      "\u001b[32m\u001b[1m   Resolving\u001b[22m\u001b[39m package versions...\n",
      "\u001b[32m\u001b[1m  No Changes\u001b[22m\u001b[39m to `~/.julia/environments/v1.8/Project.toml`\n",
      "\u001b[32m\u001b[1m  No Changes\u001b[22m\u001b[39m to `~/.julia/environments/v1.8/Manifest.toml`\n",
      "\u001b[32m\u001b[1m   Resolving\u001b[22m\u001b[39m package versions...\n",
      "\u001b[32m\u001b[1m  No Changes\u001b[22m\u001b[39m to `~/.julia/environments/v1.8/Project.toml`\n",
      "\u001b[32m\u001b[1m  No Changes\u001b[22m\u001b[39m to `~/.julia/environments/v1.8/Manifest.toml`\n",
      "\u001b[32m\u001b[1m    Building\u001b[22m\u001b[39m Conda ─→ `~/.julia/scratchspaces/44cfe95a-1eb2-52ea-b672-e2afdf69b78f/6e47d11ea2776bc5627421d59cdcc1296c058071/build.log`\n",
      "\u001b[32m\u001b[1m    Building\u001b[22m\u001b[39m PyCall → `~/.julia/scratchspaces/44cfe95a-1eb2-52ea-b672-e2afdf69b78f/62f417f6ad727987c755549e9cd88c46578da562/build.log`\n",
      "\u001b[32m\u001b[1m   Resolving\u001b[22m\u001b[39m package versions...\n",
      "\u001b[32m\u001b[1m  No Changes\u001b[22m\u001b[39m to `~/.julia/environments/v1.8/Project.toml`\n",
      "\u001b[32m\u001b[1m  No Changes\u001b[22m\u001b[39m to `~/.julia/environments/v1.8/Manifest.toml`\n",
      "\u001b[32m\u001b[1m   Resolving\u001b[22m\u001b[39m package versions...\n",
      "\u001b[32m\u001b[1m  No Changes\u001b[22m\u001b[39m to `~/.julia/environments/v1.8/Project.toml`\n",
      "\u001b[32m\u001b[1m  No Changes\u001b[22m\u001b[39m to `~/.julia/environments/v1.8/Manifest.toml`\n",
      "\u001b[32m\u001b[1m   Resolving\u001b[22m\u001b[39m package versions...\n",
      "\u001b[32m\u001b[1m  No Changes\u001b[22m\u001b[39m to `~/.julia/environments/v1.8/Project.toml`\n",
      "\u001b[32m\u001b[1m  No Changes\u001b[22m\u001b[39m to `~/.julia/environments/v1.8/Manifest.toml`\n",
      "\u001b[32m\u001b[1m   Resolving\u001b[22m\u001b[39m package versions...\n",
      "\u001b[32m\u001b[1m  No Changes\u001b[22m\u001b[39m to `~/.julia/environments/v1.8/Project.toml`\n",
      "\u001b[32m\u001b[1m  No Changes\u001b[22m\u001b[39m to `~/.julia/environments/v1.8/Manifest.toml`\n",
      "\u001b[36m\u001b[1m[ \u001b[22m\u001b[39m\u001b[36m\u001b[1mInfo: \u001b[22m\u001b[39mRunning `conda config --set pip_interop_enabled true --file /Users/lab/.julia/conda/3/condarc-julia.yml` in root environment\n"
     ]
    },
    {
     "data": {
      "text/plain": [
       "PyObject <module 'igraph' from '/Users/lab/.julia/conda/3/lib/python3.10/site-packages/igraph/__init__.py'>"
      ]
     },
     "execution_count": 26,
     "metadata": {},
     "output_type": "execute_result"
    }
   ],
   "source": [
    "        import Pkg\n",
    "        Pkg.add(\"Conda\")\n",
    "        Pkg.add(\"PyCall\")\n",
    "        Pkg.build(\"PyCall\")\n",
    "        #Pkg.add(\"Distances\")\n",
    "        #Pkg.build(\"Distances\")\n",
    "        Pkg.add(\"NearestNeighbors\")\n",
    "        Pkg.add(\"Graphs\")\n",
    "        Pkg.add(\"DataFrames\")\n",
    "        Pkg.add(\"CSV\")\n",
    "\n",
    "        using Conda\n",
    "\n",
    "        Conda.pip_interop(true)\n",
    "        #Conda.pip(\"install\", \"scipy\")\n",
    "        #Conda.pip(\"install\", \"numpy\")\n",
    "        #Conda.pip(\"install\", \"leidenalg\")\n",
    "\n",
    "        using PyCall\n",
    "        leidenalg = pyimport(\"leidenalg\")\n",
    "        igraph = pyimport(\"igraph\")"
   ]
  },
  {
   "cell_type": "code",
   "execution_count": 2,
   "metadata": {},
   "outputs": [
    {
     "data": {
      "text/plain": [
       "([1.0 1.11025030862773 … 0.614151142101373 0.357674997935981; 1.0 0.889124231127228 … 0.27000521050942 0.248588426677347; … ; 1.0 0.817024811301291 … 0.499394661482848 0.208843314325353; 1.0 0.860524826231243 … 0.36773979751416 0.176085981594109], AbstractString[\"1\" \"2\" … \"7\" \"8\"])"
      ]
     },
     "execution_count": 2,
     "metadata": {},
     "output_type": "execute_result"
    }
   ],
   "source": [
    " using DelimitedFiles\n",
    "#readdlm(\"/Users/lab/Documents/githubspot/deepmeltome/data/target_psmtable.txt\")\n",
    "#import Pkg; Pkg.add(\"CSV\")\n",
    "meltdata = readdlm(\"/Users/lab/Documents/githubspot/meltmatch/julia_clustering_input.csv\",',', header=true)"
   ]
  },
  {
   "cell_type": "code",
   "execution_count": 3,
   "metadata": {},
   "outputs": [
    {
     "data": {
      "text/plain": [
       "calculate_similarity (generic function with 1 method)"
      ]
     },
     "execution_count": 3,
     "metadata": {},
     "output_type": "execute_result"
    }
   ],
   "source": [
    "using Distances \n",
    "\n",
    "#Calculate the weighted Euclidean distance\n",
    "function weighted_euclidean_distance(x::Array{Float64}, y::Array{Float64}, v::Int, N::Int, K::Int)\n",
    "    sum(((x .- y).^2) .* v) / (N * K)\n",
    "end\n",
    "\n",
    "#Calculate the similarity matrix\n",
    "function calculate_similarity(data::Array{Float64}, v::Int, N::Int, K::Int)\n",
    "    n_obs = size(data, 1)\n",
    "    similarity_matrix = Array{Float64}(undef, n_obs, n_obs)\n",
    "    \n",
    "    #Using the pairwise function from the Distances package for efficient distance computation\n",
    "    pairwise_distances = pairwise(Euclidean(), data; dims=1)\n",
    "    for i in 1:n_obs\n",
    "        for j in 1:n_obs\n",
    "            weighted_dist = sqrt(pairwise_distances[i, j] * v / (N * K))\n",
    "            similarity_matrix[i, j] = 1 / (1 + weighted_dist)\n",
    "        end\n",
    "    end\n",
    "    similarity_matrix\n",
    "end\n"
   ]
  },
  {
   "cell_type": "code",
   "execution_count": 4,
   "metadata": {},
   "outputs": [
    {
     "data": {
      "text/plain": [
       "([1.0 1.11025030862773 … 0.614151142101373 0.357674997935981; 1.0 0.889124231127228 … 0.27000521050942 0.248588426677347; … ; 1.0 0.817024811301291 … 0.499394661482848 0.208843314325353; 1.0 0.860524826231243 … 0.36773979751416 0.176085981594109], AbstractString[\"1\" \"2\" … \"7\" \"8\"])"
      ]
     },
     "execution_count": 4,
     "metadata": {},
     "output_type": "execute_result"
    }
   ],
   "source": [
    "data_matrix, headers = meltdata\n",
    "#similarity_matrix = calculate_similarity(data_matrix, 1, 1, 1) #unweighted"
   ]
  },
  {
   "cell_type": "code",
   "execution_count": 15,
   "metadata": {},
   "outputs": [
    {
     "data": {
      "text/plain": [
       "create_igraph (generic function with 1 method)"
      ]
     },
     "execution_count": 15,
     "metadata": {},
     "output_type": "execute_result"
    }
   ],
   "source": [
    "using NearestNeighbors\n",
    "using Graphs\n",
    "using LinearAlgebra\n",
    "\n",
    "#LSH-like function to approximate nearest neighbors\n",
    "function approximate_neighbors(data::Array{Float64}, num_hashes::Int, bucket_size::Int)\n",
    "    dim = size(data, 2)\n",
    "    hash_functions = [randn(dim) for _ in 1:num_hashes]\n",
    "    hashed_data = Array{Float64}(undef, size(data, 1), num_hashes) \n",
    "\n",
    "    for i in 1:size(data, 1)\n",
    "        for j in 1:num_hashes\n",
    "            hashed_data[i, j] = dot(data[i, :], hash_functions[j]) > 0 ? 1.0 : 0.0  \n",
    "        end\n",
    "    end\n",
    "\n",
    "    #Create a nearest neighbors data structure\n",
    "    tree = KDTree(transpose(hashed_data)) \n",
    "\n",
    "    #Find approximate nearest neighbors\n",
    "    indices = [knn(tree, hashed_data[i, :], bucket_size, true)[1] for i in 1:size(hashed_data, 1)]\n",
    "\n",
    "    return indices\n",
    "end\n",
    "\n",
    "#Function to create a graph from the neighbor indices\n",
    "function create_graph(neighbor_indices)\n",
    "    g = SimpleGraph(length(neighbor_indices))\n",
    "    for (idx, neighbors) in enumerate(neighbor_indices)\n",
    "        for neighbor in neighbors\n",
    "            add_edge!(g, idx, neighbor)\n",
    "        end\n",
    "    end\n",
    "    return g\n",
    "end\n",
    "#Function to create a graph - igraph\n",
    "function create_igraph(neighbor_indices)\n",
    "    edges = Vector{Tuple{Int64, Int64}}()\n",
    "    for (idx, neighbors) in enumerate(neighbor_indices)\n",
    "        for neighbor in neighbors\n",
    "            push!(edges, (idx, neighbor))\n",
    "        end\n",
    "    end\n",
    "    igraph_graph = igraph.Graph.TupleList(edges, directed=false)\n",
    "    return igraph_graph\n",
    "end\n"
   ]
  },
  {
   "cell_type": "code",
   "execution_count": 16,
   "metadata": {},
   "outputs": [
    {
     "data": {
      "text/plain": [
       "57033377-element Vector{Vector{Int64}}:\n",
       " [46238641, 32286368, 32024212, 32288696, 38683988]\n",
       " [7947539, 7947547, 7947538, 7947612, 7947526]\n",
       " [7947539, 7947547, 7947538, 7947612, 7947526]\n",
       " [13179087, 38687922, 38683980, 45013884, 13179091]\n",
       " [28325841, 17904992, 28505299, 77463, 109687]\n",
       " [7895702, 7910340, 8428670, 7734916, 7703622]\n",
       " [7947539, 7947547, 7947538, 7947612, 7947526]\n",
       " [46238641, 32286368, 32024212, 32288696, 38683988]\n",
       " [7947539, 7947547, 7947538, 7947612, 7947526]\n",
       " [7947539, 7947547, 7947538, 7947612, 7947526]\n",
       " [7947539, 7947547, 7947538, 7947612, 7947526]\n",
       " [46238641, 32286368, 32024212, 32288696, 38683988]\n",
       " [13179087, 38687922, 38683980, 45013884, 13179091]\n",
       " ⋮\n",
       " [13179087, 38687922, 38683980, 45013884, 13179091]\n",
       " [46238641, 32286368, 32024212, 32288696, 38683988]\n",
       " [7947539, 7947547, 7947538, 7947612, 7947526]\n",
       " [7947541, 7947552, 7947536, 7947551, 7948397]\n",
       " [7947541, 7947552, 7947536, 7947551, 7948397]\n",
       " [7948361, 7947542, 7948359, 7948356, 7948325]\n",
       " [7947539, 7947547, 7947538, 7947612, 7947526]\n",
       " [7947541, 7947552, 7947536, 7947551, 7948397]\n",
       " [7947539, 7947547, 7947538, 7947612, 7947526]\n",
       " [7948241, 7948256, 7948374, 7949630, 7948277]\n",
       " [29892082, 40465284, 30317923, 43335303, 43201676]\n",
       " [39490600, 29102516, 44110577, 43014586, 29922618]"
      ]
     },
     "execution_count": 16,
     "metadata": {},
     "output_type": "execute_result"
    }
   ],
   "source": [
    "indices = approximate_neighbors(data_matrix, 10, 5)"
   ]
  },
  {
   "cell_type": "code",
   "execution_count": 17,
   "metadata": {},
   "outputs": [
    {
     "data": {
      "text/plain": [
       "PyObject <leidenalg.VertexPartition.ModularityVertexPartition object at 0x1916d3c10>"
      ]
     },
     "execution_count": 17,
     "metadata": {},
     "output_type": "execute_result"
    }
   ],
   "source": [
    "graph = create_igraph(indices)\n",
    "partition = leidenalg.find_partition(graph, leidenalg.ModularityVertexPartition)"
   ]
  },
  {
   "cell_type": "code",
   "execution_count": 22,
   "metadata": {},
   "outputs": [],
   "source": [
    "#Write files - graph\n",
    "graph.write(\"julia_graph.graphml\", \"graphml\")"
   ]
  },
  {
   "cell_type": "code",
   "execution_count": 27,
   "metadata": {},
   "outputs": [
    {
     "data": {
      "text/plain": [
       "\"partition_membership.csv\""
      ]
     },
     "execution_count": 27,
     "metadata": {},
     "output_type": "execute_result"
    }
   ],
   "source": [
    "#Write files - membership\n",
    "using DataFrames\n",
    "using CSV\n",
    "membership = partition[:membership]\n",
    "membership_df = DataFrame(vertex = 1:length(membership), cluster = membership)\n",
    "CSV.write(\"partition_membership.csv\", membership_df)"
   ]
  },
  {
   "cell_type": "code",
   "execution_count": null,
   "metadata": {},
   "outputs": [],
   "source": []
  }
 ],
 "metadata": {
  "kernelspec": {
   "display_name": "Julia 1.8.5",
   "language": "julia",
   "name": "julia-1.8"
  },
  "language_info": {
   "file_extension": ".jl",
   "mimetype": "application/julia",
   "name": "julia",
   "version": "1.8.5"
  }
 },
 "nbformat": 4,
 "nbformat_minor": 4
}
